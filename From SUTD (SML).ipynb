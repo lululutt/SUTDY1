{
 "cells": [
  {
   "cell_type": "markdown",
   "metadata": {},
   "source": [
    "# Some statistical analysis and machine learning basics from my course in SUTD"
   ]
  },
  {
   "cell_type": "code",
   "execution_count": 1,
   "metadata": {},
   "outputs": [],
   "source": [
    "import numpy as np\n",
    "from sklearn.metrics import confusion_matrix\n",
    "\n",
    "def get_metrics(actual_targets, predicted_targets, labels):\n",
    "    \n",
    "    c_matrix = confusion_matrix(actual_targets, predicted_targets, labels)\n",
    "    output = {}\n",
    "    tn,fp,fn,tp = c_matrix.ravel()\n",
    "    #tn n and n\n",
    "    #fp p but n\n",
    "    #fn n but p\n",
    "    #tp p and p\n",
    "    output['confusion matrix'] = c_matrix\n",
    "    output['total records'] = len(actual_targets)\n",
    "    output['accuracy'] = round((tn+tp)/(tn+fp+fn+tp),3)\n",
    "    output['sensitivity'] = round((tp)/(tp+fn), 3)\n",
    "    output['false positive rate'] = round((fp)/(tn+fp),3)\n",
    "    \n",
    "    return output"
   ]
  },
  {
   "cell_type": "code",
   "execution_count": 4,
   "metadata": {},
   "outputs": [],
   "source": [
    "import numpy as np\n",
    "\n",
    "def five_number_summary(x):\n",
    "    if x.ndim != 2:\n",
    "        return None\n",
    "    else:\n",
    "        output_final = []\n",
    "        for i in range(x.shape[1]):\n",
    "            column = x[:,i]\n",
    "            output = {'minimum': np.min(column),'first quartile': np.percentile(column,25),'median': np.median(column),'third quartile': np.percentile(column, 75),'maximum': np.max(column)}\n",
    "            output_final.append(output)\n",
    "    \n",
    "    return output_final"
   ]
  },
  {
   "cell_type": "code",
   "execution_count": 5,
   "metadata": {},
   "outputs": [],
   "source": [
    "import numpy as np\n",
    "\n",
    "def normalize_minmax(data):\n",
    "    size = data.shape\n",
    "    if (len(size) == 1):\n",
    "        return None\n",
    "    else:\n",
    "        cols = size[1]\n",
    "        \n",
    "    for c in range(cols):\n",
    "        maximum = np.max(data[:,c])\n",
    "        minimum = np.min(data[:,c])\n",
    "        denom = maximum - minimum\n",
    "        data[:,c] = (data[:,c] - minimum)/denom\n",
    "        \n",
    "    return data"
   ]
  },
  {
   "cell_type": "code",
   "execution_count": 9,
   "metadata": {},
   "outputs": [
    {
     "data": {
      "image/png": "[encoded data removed]",
      "text/plain": [
       "<Figure size 432x288 with 1 Axes>"
      ]
     },
     "metadata": {
      "needs_background": "light"
     },
     "output_type": "display_data"
    },
    {
     "name": "stdout",
     "output_type": "stream",
     "text": [
      "{'confusion matrix': array([[141,   5],\n",
      "       [  9,  73]], dtype=int64), 'total records': 228, 'accuracy': 0.939, 'sensitivity': 0.89, 'false positive rate': 0.034}\n"
     ]
    }
   ],
   "source": [
    "from sklearn.model_selection import train_test_split \n",
    "from sklearn import neighbors, datasets\n",
    "from sklearn.metrics import confusion_matrix\n",
    "import numpy as np\n",
    "import matplotlib.pyplot as plt\n",
    "\n",
    "# place any functions you need from CS1-3 here\n",
    "\n",
    "def get_metrics(actual_targets, predicted_targets, labels):\n",
    "    c_matrix = confusion_matrix(actual_targets, predicted_targets, labels)\n",
    "    output = {}\n",
    "    tn,fp,fn,tp = c_matrix.ravel()\n",
    "    output['confusion matrix'] = c_matrix\n",
    "    output['total records'] = len(actual_targets)\n",
    "    output['accuracy'] = round((tn+tp)/(tn+fp+fn+tp),3)\n",
    "    output['sensitivity'] = round((tp)/(tp+fn), 3)\n",
    "    output['false positive rate'] = round((fp)/(tn+fp),3)\n",
    "    return output\n",
    "\n",
    "def five_number_summary(x):\n",
    "    if x.ndim != 2:\n",
    "        return None\n",
    "    else:\n",
    "        output_final = []\n",
    "        for i in range(x.shape[1]):\n",
    "            column = x[:,i]\n",
    "            output = {'minimum': np.min(column),'first quartile': np.percentile(column,25),'median': np.median(column),'third quartile': np.percentile(column, 75),'maximum': np.max(column)}\n",
    "            output_final.append(output)\n",
    "    \n",
    "    return output_final\n",
    "\n",
    "def normalize_minmax(data):\n",
    "    size = data.shape\n",
    "    if (len(size) == 1):\n",
    "        return None\n",
    "    else:\n",
    "        cols = size[1]\n",
    "    for c in range(cols):\n",
    "        maximum = np.max(data[:,c])\n",
    "        minimum = np.min(data[:,c])\n",
    "        denom = maximum - minimum\n",
    "        data[:,c] = (data[:,c] - minimum)/denom\n",
    "    return data\n",
    "\n",
    "def display_bar_chart(positions, counts, names, title_name = 'default'):\n",
    "    plt.bar(positions, counts, align = 'center')\n",
    "    plt.xticks(np.arange(2), names)\n",
    "    plt.title(title_name)\n",
    "    plt.show()\n",
    "\n",
    "def knn_classifier(bunchobject, feature_list, size, seed , k ): \n",
    "    data = bunchobject.data[:, feature_list]\n",
    "    tar = bunchobject.target\n",
    "    norm_data = normalize_minmax(data)\n",
    "    d_train, d_test, tar_train, tar_test = train_test_split(data, tar, test_size = size, random_state = seed)\n",
    "    c = neighbors.KNeighborsClassifier(k)\n",
    "    c.fit(d_train, tar_train)\n",
    "    tar_pre = c.predict(d_test)\n",
    "    return get_metrics(tar_test, tar_pre, [1,0])\n",
    "    \n",
    "    \n",
    "bunchobject = datasets.load_breast_cancer()\n",
    "unique, counts = np.unique(bunchobject.target, return_counts = True)\n",
    "display_bar_chart(unique, counts, bunchobject.target_names)\n",
    "\n",
    "features = range(20)\n",
    "results = knn_classifier(bunchobject, features, 0.40, 2752, 3)\n",
    "print(results)"
   ]
  },
  {
   "cell_type": "code",
   "execution_count": 4,
   "metadata": {},
   "outputs": [
    {
     "data": {
      "image/png": "[encoded data removed]",
      "text/plain": [
       "<Figure size 432x288 with 1 Axes>"
      ]
     },
     "metadata": {
      "needs_background": "light"
     },
     "output_type": "display_data"
    }
   ],
   "source": [
    "import numpy as np\n",
    "from sklearn import linear_model \n",
    "from sklearn.metrics import mean_squared_error, r2_score\n",
    "from sklearn.model_selection import train_test_split\n",
    "from sklearn import datasets\n",
    "import matplotlib.pyplot as plt\n",
    "from sklearn.metrics import confusion_matrix\n",
    "\n",
    "def display_scatter(x, y, xlabel = 'x', ylabel = 'y', title_name = 'default'):\n",
    "    plt.scatter(x ,y )\n",
    "    plt.xlabel(xlabel)\n",
    "    plt.ylabel(ylabel)\n",
    "    plt.title(title_name)\n",
    "    plt.show()\n",
    "    \n",
    "\n",
    "    \n",
    "bunchobject = datasets.load_breast_cancer()\n",
    "    \n",
    "x_index = 0\n",
    "y_index = 3\n",
    "\n",
    "x = bunchobject.data[:,[x_index]]\n",
    "y = bunchobject.data[:, [y_index]]\n",
    "\n",
    "x_label = bunchobject.feature_names[x_index]\n",
    "y_label = bunchobject.feature_names[y_index]\n",
    "\n",
    "display_scatter(x,y,x_label,y_label)\n",
    "    "
   ]
  },
  {
   "cell_type": "code",
   "execution_count": 9,
   "metadata": {},
   "outputs": [
    {
     "name": "stdout",
     "output_type": "stream",
     "text": [
      "{'coefficients': array([[100.16755386]]), 'intercept': array([-760.52027342]), 'mean squared error': 2631.2988797244757, 'r2 score': 0.9777253933521517}\n"
     ]
    },
    {
     "data": {
      "image/png": "[encoded data removed]",
      "text/plain": [
       "<Figure size 432x288 with 1 Axes>"
      ]
     },
     "metadata": {
      "needs_background": "light"
     },
     "output_type": "display_data"
    }
   ],
   "source": [
    "import numpy as np\n",
    "from sklearn import linear_model \n",
    "from sklearn.metrics import mean_squared_error, r2_score\n",
    "from sklearn.model_selection import train_test_split\n",
    "from sklearn import datasets\n",
    "from matplotlib.colors import ListedColormap\n",
    "\n",
    "def plot_linear_regression(x1, y1, x2, y2, x_label = '', y_label = ''):\n",
    "    plt.scatter(x1, y1, color = 'black')\n",
    "    plt.scatter(x2, y2, color = 'blue')\n",
    "    plt.xlabel(x_label)\n",
    "    plt.ylabel(y_label)\n",
    "    plt.show()\n",
    "\n",
    "def linear_regression(bunchobject, x_index, y_index, size, seed):\n",
    "    data = bunchobject.data\n",
    "    x = data[:, [x_index]]\n",
    "    y = data[:, [y_index]]\n",
    "    \n",
    "    x_train, x_test, y_train, y_test = train_test_split(x, y, test_size = size, random_state = seed)\n",
    "    \n",
    "    regr = linear_model.LinearRegression()\n",
    "    regr.fit(x_train, y_train)\n",
    "    y_pred = regr.predict(x_test)\n",
    "    \n",
    "    mse = mean_squared_error(y_test, y_pred)\n",
    "    var = r2_score(y_test, y_pred)\n",
    "    \n",
    "    results = {'coefficients': regr.coef_,\n",
    "               'intercept': regr.intercept_,\n",
    "               'mean squared error': mse,\n",
    "               'r2 score': var }\n",
    "    # if mean squared error is small -> little error\n",
    "    # if r2 score close to 1 -> linear regression can be used for this data set\n",
    "    return x_train, y_train, x_test, y_pred, results\n",
    "\n",
    "bunchobject = datasets.load_breast_cancer()\n",
    "\n",
    "x_train, y_train, x_test, y_pred, results = linear_regression(bunchobject, 0, 3, 0.4, 2752)\n",
    "print(results)\n",
    "plot_linear_regression(x_train, y_train, x_test, y_pred,\n",
    "                      bunchobject.feature_names[0],\n",
    "                      bunchobject.feature_names[3])"
   ]
  },
  {
   "cell_type": "code",
   "execution_count": 11,
   "metadata": {},
   "outputs": [],
   "source": [
    "import numpy as np\n",
    "from sklearn import linear_model \n",
    "from sklearn.metrics import mean_squared_error, r2_score\n",
    "from sklearn.model_selection import train_test_split\n",
    "from sklearn.preprocessing import PolynomialFeatures\n",
    "\n",
    "def multiple_linear_regression(bunchobject, x_index, y_index, order, size, seed):\n",
    "    #load dataset\n",
    "    data = bunchobject.data\n",
    "    \n",
    "    #extract features to train on\n",
    "    x = data[:, [x_index]]\n",
    "    y = data[:, [y_index]]\n",
    "    \n",
    "    pol = PolynomialFeatures(order, include_bias = False)\n",
    "    c = pol.fit_transform(x) # creates columns based on the order e.g. order 2 creates column of x^2\n",
    "    \n",
    "    #split dataset\n",
    "    c_train, c_test, y_train, y_test = train_test_split(c, y, test_size = size, random_state = seed)\n",
    "    \n",
    "    regr = linear_model.LinearRegression()\n",
    "    regr.fit(c_train, y_train)\n",
    "    y_pred = regr.predict(c_test)\n",
    "    \n",
    "    mse = mean_squared_error(y_test, y_pred)\n",
    "    var = r2_score(y_test, y_pred)\n",
    "    \n",
    "    results = {'coefficients': regr.coef_,\n",
    "               'intercept': regr.intercept_,\n",
    "               'mean squared error': mse,\n",
    "               'r2 score': var }\n",
    "    return c_train[:,[0]], y_train, c_test[:,[0]], y_pred, results"
   ]
  }
 ],
 "metadata": {
  "kernelspec": {
   "display_name": "Python 3",
   "language": "python",
   "name": "python3"
  },
  "language_info": {
   "codemirror_mode": {
    "name": "ipython",
    "version": 3
   },
   "file_extension": ".py",
   "mimetype": "text/x-python",
   "name": "python",
   "nbconvert_exporter": "python",
   "pygments_lexer": "ipython3",
   "version": "3.7.6"
  }
 },
 "nbformat": 4,
 "nbformat_minor": 4
}
